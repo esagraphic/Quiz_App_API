{
 "cells": [
  {
   "cell_type": "markdown",
   "metadata": {},
   "source": [
    "# Optional: Backup data if needed\n",
    "\n",
    "# Drop the PostgreSQL DB manually or via command\n",
    "psql -U quizappuser -d postgres\n",
    "DROP DATABASE quizappdb;\n",
    "CREATE DATABASE quizappdb;\n",
    "\n",
    "# Then in Django\n",
    "python manage.py migrate  # Recreate tables from scratch\n",
    "python manage.py createsuperuser  # Recreate admin user if needed\n"
   ]
  }
 ],
 "metadata": {
  "language_info": {
   "name": "python"
  }
 },
 "nbformat": 4,
 "nbformat_minor": 2
}
